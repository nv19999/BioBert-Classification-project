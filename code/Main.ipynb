{
  "nbformat": 4,
  "nbformat_minor": 0,
  "metadata": {
    "colab": {
      "provenance": []
    },
    "kernelspec": {
      "name": "python3",
      "display_name": "Python 3"
    },
    "language_info": {
      "name": "python"
    }
  },
  "cells": [
    {
      "cell_type": "code",
      "execution_count": null,
      "metadata": {
        "id": "yuiDbPb-QbX4"
      },
      "outputs": [],
      "source": []
    },
    {
      "cell_type": "markdown",
      "source": [
        "# There are two jupyter notebooks:\n",
        "1. fine_tuned_classification.ipynb\n",
        "2. Non_fine_tuned.ipynb\n",
        "# Both notebooks need to run.\n",
        "\n",
        "The paths for the dataset need to be set appropriately."
      ],
      "metadata": {
        "id": "5w4_ZW1TQeKB"
      }
    },
    {
      "cell_type": "code",
      "source": [],
      "metadata": {
        "id": "5LqvoAyARRmO"
      },
      "execution_count": null,
      "outputs": []
    }
  ]
}